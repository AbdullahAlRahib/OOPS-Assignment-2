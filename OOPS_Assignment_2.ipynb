{
  "nbformat": 4,
  "nbformat_minor": 0,
  "metadata": {
    "colab": {
      "provenance": []
    },
    "kernelspec": {
      "name": "python3",
      "display_name": "Python 3"
    },
    "language_info": {
      "name": "python"
    }
  },
  "cells": [
    {
      "cell_type": "markdown",
      "source": [
        "# **Q1**\n",
        "\n",
        "**What is Abstraction in OOps? Explain with an example.**\n",
        "\n",
        "**Answer:**\n",
        "Abstraction is a fundamental principle in object-oriented programming (OOP) that involves representing complex real-world entities as simplified models within the programming context. It focuses on defining the essential features and behaviors of an object while hiding the unnecessary details."
      ],
      "metadata": {
        "id": "NuVBK8G7eABN"
      }
    },
    {
      "cell_type": "code",
      "execution_count": 6,
      "metadata": {
        "id": "jsvkEoEgX5B1"
      },
      "outputs": [],
      "source": [
        "from abc import ABC, abstractmethod\n",
        "\n",
        "class Shape(ABC):\n",
        "    @abstractmethod\n",
        "    def calculate_area(self):\n",
        "        pass\n",
        "\n",
        "class Circle(Shape):\n",
        "    def __init__(self, radius):\n",
        "        self.radius = radius\n",
        "\n",
        "    def calculate_area(self):\n",
        "        return 3.14 * self.radius ** 2\n",
        "\n",
        "class Rectangle(Shape):\n",
        "    def __init__(self, length, width):\n",
        "        self.length = length\n",
        "        self.width = width\n",
        "\n",
        "    def calculate_area(self):\n",
        "        return self.length * self.width"
      ]
    },
    {
      "cell_type": "code",
      "source": [
        "circle = Circle(5)\n",
        "rectangle = Rectangle(4, 6)"
      ],
      "metadata": {
        "id": "LrSBW5tpfDRK"
      },
      "execution_count": 7,
      "outputs": []
    },
    {
      "cell_type": "code",
      "source": [
        "circle.calculate_area()"
      ],
      "metadata": {
        "colab": {
          "base_uri": "https://localhost:8080/"
        },
        "id": "QsHNGvINfHde",
        "outputId": "f0446098-2c34-4456-c613-ec7561f429b1"
      },
      "execution_count": 8,
      "outputs": [
        {
          "output_type": "execute_result",
          "data": {
            "text/plain": [
              "78.5"
            ]
          },
          "metadata": {},
          "execution_count": 8
        }
      ]
    },
    {
      "cell_type": "code",
      "source": [
        "rectangle.calculate_area()"
      ],
      "metadata": {
        "colab": {
          "base_uri": "https://localhost:8080/"
        },
        "id": "R3lCr3rqfI1S",
        "outputId": "b105c2bc-2057-4f81-f5e0-c2e462ffa872"
      },
      "execution_count": 9,
      "outputs": [
        {
          "output_type": "execute_result",
          "data": {
            "text/plain": [
              "24"
            ]
          },
          "metadata": {},
          "execution_count": 9
        }
      ]
    },
    {
      "cell_type": "markdown",
      "source": [
        " we have an abstract class called Shape that defines a single abstract method called calculate_area(). The abstract method does not provide an implementation in the abstract class itself.\n",
        "\n",
        "The Circle and Rectangle classes inherit from the Shape class and override the calculate_area() method with their own implementations. Each subclass provides the specific logic for calculating the area based on the shape it represents."
      ],
      "metadata": {
        "id": "JgtY-VS2fRp_"
      }
    },
    {
      "cell_type": "markdown",
      "source": [
        "# **Q2**\n",
        "\n",
        "**Differentiate between Abstraction and Encapsulation. Explain with an example**\n",
        "\n",
        "**Answer:**\n",
        "\n",
        "Abstraction is a way of representing some specific data. Encapsulation is a way of hiding the complexity of something and exposing only the parts you wish to expose. For example, if you have a class that has one or more private fields that you use to store the data, then you are in encapsulation.\n",
        "\n",
        "encapsulation focuses on bundling related data and methods together within a class, while abstraction focuses on defining abstract classes or interfaces to represent simplified models and provide a high-level view of the system. Both concepts work together to create modular, maintainable, and flexible code structures in OOP."
      ],
      "metadata": {
        "id": "pDH_RhsdeBwo"
      }
    },
    {
      "cell_type": "code",
      "source": [
        "class Car:\n",
        "    def __init__(self, brand, color, model):\n",
        "        self.brand = brand\n",
        "        self.color = color\n",
        "        self.model = model\n",
        "\n",
        "    def start_engine(self):\n",
        "        print(\"Engine started.\")\n",
        "\n",
        "    def drive(self):\n",
        "        print(f\"Driving the {self.color} {self.brand} {self.model}.\")\n"
      ],
      "metadata": {
        "id": "bW7_edRif0v8"
      },
      "execution_count": 10,
      "outputs": []
    },
    {
      "cell_type": "markdown",
      "source": [
        " we have the Car class that encapsulates data related to a car, such as its brand, color, and model. The __init__() method is used to initialize the object's attributes when it is created. The start_engine() and drive() methods encapsulate the behavior of starting the engine and driving the car, respectively."
      ],
      "metadata": {
        "id": "9sR---uEf4Xy"
      }
    },
    {
      "cell_type": "code",
      "source": [
        "from abc import ABC, abstractmethod\n",
        "\n",
        "class Vehicle(ABC):\n",
        "    @abstractmethod\n",
        "    def start_engine(self):\n",
        "        pass\n",
        "\n",
        "    @abstractmethod\n",
        "    def drive(self):\n",
        "        pass\n",
        "\n",
        "class Car(Vehicle):\n",
        "    def __init__(self, brand, color, model):\n",
        "        self.brand = brand\n",
        "        self.color = color\n",
        "        self.model = model\n",
        "\n",
        "    def start_engine(self):\n",
        "        print(\"Engine started.\")\n",
        "\n",
        "    def drive(self):\n",
        "        print(f\"Driving the {self.color} {self.brand} {self.model}.\")"
      ],
      "metadata": {
        "id": "_J7UUkXKf4Fn"
      },
      "execution_count": 11,
      "outputs": []
    },
    {
      "cell_type": "markdown",
      "source": [
        "we introduced the Vehicle abstract class, which defines two abstract methods: start_engine() and drive(). The Car class inherits from the Vehicle class and provides concrete implementations for those methods.\n",
        "\n",
        "Here, encapsulation is achieved by bundling the data (brand, color, model) and methods (start_engine, drive) within the Car class. Abstraction, on the other hand, is achieved by introducing the abstract Vehicle class that defines a contract for any vehicle to implement the start_engine() and drive() methods."
      ],
      "metadata": {
        "id": "UtJR2BUFf-fh"
      }
    },
    {
      "cell_type": "markdown",
      "source": [
        "# **Q3**\n",
        "\n",
        "**What is abc module in python? Why is it used?.**\n",
        "\n",
        "**Answer:**\n",
        "\n",
        "The abc module in Python stands for \"Abstract Base Classes.\" It is a module that provides the infrastructure for defining abstract base classes in Python.\n",
        "\n",
        "Abstract base classes (ABCs) are classes that cannot be instantiated themselves but serve as blueprints for other classes. They are used to define a common interface that subclasses must adhere to by providing concrete implementations for abstract methods. ABCs help enforce a certain structure and behavior across multiple related classes."
      ],
      "metadata": {
        "id": "RHHsO2e5eCUo"
      }
    },
    {
      "cell_type": "markdown",
      "source": [
        "# **Q4**\n",
        "\n",
        "**How can we achieve data abstraction?.**\n",
        "\n",
        "**Answer:**\n",
        "\n",
        "In Python, abstraction can be achieved by having/using abstract classes and methods in our programs. Understanding Abstract Methods and Classes: An abstract method is a method that is declared, but does not contain implementation."
      ],
      "metadata": {
        "id": "3idnt7lWeDWh"
      }
    },
    {
      "cell_type": "markdown",
      "source": [
        "# **Q5**\n",
        "\n",
        "**Can we create an instance of an abstract class? Explain your answer.**\n",
        "\n",
        "**Answer:**\n",
        "\n",
        "No, we cannot create an instance of an abstract class in Python. Abstract classes are designed to be incomplete and act as blueprints for other classes. They are meant to be subclassed and provide a common interface or structure for their subclasses.\n",
        "\n",
        "abstract classes cannot be instantiated directly because they are incomplete and serve as blueprints for subclasses to implement. They define a common interface or structure that concrete subclasses must adhere to. Only concrete subclasses of the abstract class can be instantiated, as they provide the necessary implementations for the abstract methods."
      ],
      "metadata": {
        "id": "s23N3BySeD6W"
      }
    },
    {
      "cell_type": "code",
      "source": [
        "from abc import ABC, abstractmethod\n",
        "\n",
        "class AbstractClass(ABC):\n",
        "    @abstractmethod\n",
        "    def some_method(self):\n",
        "        pass"
      ],
      "metadata": {
        "id": "SI-UapFjg3o-"
      },
      "execution_count": 12,
      "outputs": []
    },
    {
      "cell_type": "code",
      "source": [
        "# Attempting to create an instance of the abstract class\n",
        "my_instance = AbstractClass()  # Raises TypeError: Can't instantiate abstract class AbstractClass with abstract methods some_method"
      ],
      "metadata": {
        "id": "pagujqn1hVcs"
      },
      "execution_count": 14,
      "outputs": []
    },
    {
      "cell_type": "markdown",
      "source": [
        " we define an abstract class called AbstractClass that inherits from ABC and contains an abstract method called some_method(). When we try to create an instance of AbstractClass, a TypeError is raised because the class is abstract and lacks a complete implementation for the abstract method.\n",
        "\n",
        "To use an abstract class, we must create a concrete subclass that inherits from the abstract class and provides implementations for all the abstract methods. We can then create instances of the subclass, which will inherit the abstract methods from the abstract class."
      ],
      "metadata": {
        "id": "hV3cz-r8g7yr"
      }
    }
  ]
}